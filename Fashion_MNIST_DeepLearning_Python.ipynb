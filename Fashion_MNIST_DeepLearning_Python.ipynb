{
  "nbformat": 4,
  "nbformat_minor": 0,
  "metadata": {
    "colab": {
      "provenance": [],
      "authorship_tag": "ABX9TyNXY3wxt9svpB64XYVJ0cld",
      "include_colab_link": true
    },
    "kernelspec": {
      "name": "python3",
      "display_name": "Python 3"
    },
    "language_info": {
      "name": "python"
    }
  },
  "cells": [
    {
      "cell_type": "markdown",
      "metadata": {
        "id": "view-in-github",
        "colab_type": "text"
      },
      "source": [
        "<a href=\"https://colab.research.google.com/github/Texmo100/Fashion_MNIST_DeepLearning_Python/blob/main/Fashion_MNIST_DeepLearning_Python.ipynb\" target=\"_parent\"><img src=\"https://colab.research.google.com/assets/colab-badge.svg\" alt=\"Open In Colab\"/></a>"
      ]
    },
    {
      "cell_type": "markdown",
      "source": [
        "# Fashion MNIST 👚\n",
        "\n",
        "---"
      ],
      "metadata": {
        "id": "rMYx97YsAa-s"
      }
    },
    {
      "cell_type": "markdown",
      "source": [
        "#### Step 0: Understand the problem\n",
        "\n",
        "The Dataset consists of 60,000 28x28 grayscale images of 10 fashion categories, along with a test set of 10,000 images. Since we have categories, that means que can train a Deep Learning Neural Network to perfom a multi-classification task.\n",
        "\n",
        "<br/>\n",
        "\n",
        "The following list represents the labels for each category:\n",
        "\n",
        "0.\tT-shirt/top\n",
        "1.\tTrouser\n",
        "2.\tPullover\n",
        "3.\tDress\n",
        "4.\tCoat\n",
        "5.\tSandal\n",
        "6.\tShirt\n",
        "7.\tSneaker\n",
        "8.\tBag\n",
        "9. Ankle boot\n",
        "\n",
        "<br/>\n",
        "\n",
        "---"
      ],
      "metadata": {
        "id": "KxNBR69iAso0"
      }
    },
    {
      "cell_type": "markdown",
      "source": [
        "#### Step 1: Collect the data"
      ],
      "metadata": {
        "id": "Pnq8TJmcAyE_"
      }
    },
    {
      "cell_type": "code",
      "source": [
        "import keras\n",
        "from keras import datasets\n",
        "\n",
        "\n",
        "(x_train, y_train), (x_test, y_test) = datasets.fashion_mnist.load_data()\n"
      ],
      "metadata": {
        "id": "nyRbucpWA5Ul",
        "colab": {
          "base_uri": "https://localhost:8080/"
        },
        "outputId": "967a7e5e-8570-43ac-daea-e11058725c53"
      },
      "execution_count": 1,
      "outputs": [
        {
          "output_type": "stream",
          "name": "stdout",
          "text": [
            "Downloading data from https://storage.googleapis.com/tensorflow/tf-keras-datasets/train-labels-idx1-ubyte.gz\n",
            "\u001b[1m29515/29515\u001b[0m \u001b[32m━━━━━━━━━━━━━━━━━━━━\u001b[0m\u001b[37m\u001b[0m \u001b[1m0s\u001b[0m 0us/step\n",
            "Downloading data from https://storage.googleapis.com/tensorflow/tf-keras-datasets/train-images-idx3-ubyte.gz\n",
            "\u001b[1m26421880/26421880\u001b[0m \u001b[32m━━━━━━━━━━━━━━━━━━━━\u001b[0m\u001b[37m\u001b[0m \u001b[1m2s\u001b[0m 0us/step\n",
            "Downloading data from https://storage.googleapis.com/tensorflow/tf-keras-datasets/t10k-labels-idx1-ubyte.gz\n",
            "\u001b[1m5148/5148\u001b[0m \u001b[32m━━━━━━━━━━━━━━━━━━━━\u001b[0m\u001b[37m\u001b[0m \u001b[1m0s\u001b[0m 0us/step\n",
            "Downloading data from https://storage.googleapis.com/tensorflow/tf-keras-datasets/t10k-images-idx3-ubyte.gz\n",
            "\u001b[1m4422102/4422102\u001b[0m \u001b[32m━━━━━━━━━━━━━━━━━━━━\u001b[0m\u001b[37m\u001b[0m \u001b[1m1s\u001b[0m 0us/step\n"
          ]
        }
      ]
    },
    {
      "cell_type": "markdown",
      "source": [
        "---"
      ],
      "metadata": {
        "id": "mgP3fIxCa3AB"
      }
    },
    {
      "cell_type": "markdown",
      "source": [
        "#### Step 2: Analize the data"
      ],
      "metadata": {
        "id": "m0QiM0lTA6Hv"
      }
    },
    {
      "cell_type": "code",
      "source": [
        "def set_describer(set_name, data):\n",
        "  \"\"\"\n",
        "  Describes the most basic information about a set\n",
        "\n",
        "  Args:\n",
        "    set_name (string): The set identifier\n",
        "    data (ndarray) (uint8): This contains the set\n",
        "\n",
        "  Returns:\n",
        "    No resturns\n",
        "\n",
        "  \"\"\"\n",
        "\n",
        "  desc_labels = {\n",
        "      0: 'Set datatype',\n",
        "      1: 'Sets shape',\n",
        "      2: 'first samples data type',\n",
        "      3: 'first samples shape',\n",
        "  }\n",
        "\n",
        "  print(f'---- {set_name}')\n",
        "\n",
        "  description = [\n",
        "    type(data),\n",
        "    data.shape,\n",
        "    type(data[0]),\n",
        "    data[0].shape,\n",
        "  ]\n",
        "\n",
        "  for index, item in enumerate(description):\n",
        "    print(f'-- {desc_labels[index]}: {item}')\n",
        "  print('\\n')\n",
        "\n",
        "\n",
        "# Using the set_describer function to visualize the description of each set\n",
        "set_describer(\"Training data\", x_train)\n",
        "set_describer(\"Training labels\", y_train)\n",
        "set_describer(\"Testing data\", x_test)\n",
        "set_describer(\"Testing labels\", y_test)\n"
      ],
      "metadata": {
        "colab": {
          "base_uri": "https://localhost:8080/"
        },
        "id": "Tf4P7Ny-A-xj",
        "outputId": "41ae17c0-c7d8-4a4b-f133-0ef0382ff34c"
      },
      "execution_count": 2,
      "outputs": [
        {
          "output_type": "stream",
          "name": "stdout",
          "text": [
            "---- Training data\n",
            "-- Set datatype: <class 'numpy.ndarray'>\n",
            "-- Sets shape: (60000, 28, 28)\n",
            "-- first samples data type: <class 'numpy.ndarray'>\n",
            "-- first samples shape: (28, 28)\n",
            "\n",
            "\n",
            "---- Training labels\n",
            "-- Set datatype: <class 'numpy.ndarray'>\n",
            "-- Sets shape: (60000,)\n",
            "-- first samples data type: <class 'numpy.uint8'>\n",
            "-- first samples shape: ()\n",
            "\n",
            "\n",
            "---- Testing data\n",
            "-- Set datatype: <class 'numpy.ndarray'>\n",
            "-- Sets shape: (10000, 28, 28)\n",
            "-- first samples data type: <class 'numpy.ndarray'>\n",
            "-- first samples shape: (28, 28)\n",
            "\n",
            "\n",
            "---- Testing labels\n",
            "-- Set datatype: <class 'numpy.ndarray'>\n",
            "-- Sets shape: (10000,)\n",
            "-- first samples data type: <class 'numpy.uint8'>\n",
            "-- first samples shape: ()\n",
            "\n",
            "\n"
          ]
        }
      ]
    },
    {
      "cell_type": "markdown",
      "source": [
        "---"
      ],
      "metadata": {
        "id": "DC8RDYc_a8RR"
      }
    },
    {
      "cell_type": "markdown",
      "source": [
        "#### Step 3: Clean and perfom feature engineering (if neccessary)"
      ],
      "metadata": {
        "id": "SbvRDFu2A_LD"
      }
    },
    {
      "cell_type": "markdown",
      "source": [
        "The dataset is already curated. However, we noticed that our labels are in numerical format, we need to decide if keep it as is, or opt to one-hot encoded format. Since this is a showcase, we will opt to one-hot encoding for pure demonstration."
      ],
      "metadata": {
        "id": "kNhdBNSMPjLM"
      }
    },
    {
      "cell_type": "code",
      "source": [
        "import numpy as np\n",
        "\n",
        "def one_hot_encoder(labels, number_labels):\n",
        "  \"\"\"\n",
        "  It converts labels in numerical format (0 to n) to one-hot encoded format for better data manipulation\n",
        "\n",
        "  Args:\n",
        "    labels (ndarray) (uint8): It contains the labels in numerical format\n",
        "    number_labels (int): Number of categories defined for the problem at hand\n",
        "\n",
        "  Returns:\n",
        "    labels (ndarray) (float32): It contains the labels in one-hot encoded format\n",
        "\n",
        "  \"\"\"\n",
        "\n",
        "  labels_shape = labels.shape[0]\n",
        "  one_hot_array = np.zeros((labels_shape, number_labels))\n",
        "\n",
        "  for index, zero_array in enumerate(one_hot_array):\n",
        "    label_index = labels[index]\n",
        "    zero_array[label_index] = 1.\n",
        "\n",
        "  return one_hot_array.astype(np.float32)\n",
        "\n",
        "\n",
        "# Convert numerical labels into one-hot encoded labels using the one_hot_encoder function\n",
        "one_hot_y_train = one_hot_encoder(y_train, 10)\n",
        "\n",
        "print(y_train[0])\n",
        "print(one_hot_y_train[0])\n",
        "set_describer('Training labels', one_hot_y_train)\n",
        "\n",
        "one_hot_y_test = one_hot_encoder(y_test, 10)\n",
        "\n",
        "print(y_test[0])\n",
        "print(one_hot_y_test[0])\n",
        "set_describer('Testing labels', one_hot_y_test)\n"
      ],
      "metadata": {
        "id": "G3ffxjpvPhfK",
        "colab": {
          "base_uri": "https://localhost:8080/"
        },
        "outputId": "9e6bb8c9-b652-47ae-aed1-bb496f1ff344"
      },
      "execution_count": 3,
      "outputs": [
        {
          "output_type": "stream",
          "name": "stdout",
          "text": [
            "9\n",
            "[0. 0. 0. 0. 0. 0. 0. 0. 0. 1.]\n",
            "---- Training labels\n",
            "-- Set datatype: <class 'numpy.ndarray'>\n",
            "-- Sets shape: (60000, 10)\n",
            "-- first samples data type: <class 'numpy.ndarray'>\n",
            "-- first samples shape: (10,)\n",
            "\n",
            "\n",
            "9\n",
            "[0. 0. 0. 0. 0. 0. 0. 0. 0. 1.]\n",
            "---- Testing labels\n",
            "-- Set datatype: <class 'numpy.ndarray'>\n",
            "-- Sets shape: (10000, 10)\n",
            "-- first samples data type: <class 'numpy.ndarray'>\n",
            "-- first samples shape: (10,)\n",
            "\n",
            "\n"
          ]
        }
      ]
    },
    {
      "cell_type": "markdown",
      "source": [
        "---"
      ],
      "metadata": {
        "id": "KAwQFYyWpsEu"
      }
    },
    {
      "cell_type": "markdown",
      "source": [
        "#### Step 4: Prepare the data"
      ],
      "metadata": {
        "id": "1j9Hw8AqBHeH"
      }
    },
    {
      "cell_type": "code",
      "source": [
        "x_train = x_train.reshape((60000, 28*28))\n",
        "x_train = x_train.astype(np.float32) / 255\n",
        "set_describer('Training set', x_train)\n",
        "\n",
        "x_test = x_test.reshape((10000, 28*28))\n",
        "x_test = x_test.astype(np.float32) / 255\n",
        "set_describer('Testing set', x_test)\n"
      ],
      "metadata": {
        "id": "IfF0GtZ5BMCs",
        "colab": {
          "base_uri": "https://localhost:8080/"
        },
        "outputId": "c9e11cb1-e508-4127-d70b-4c44b926ec43"
      },
      "execution_count": 4,
      "outputs": [
        {
          "output_type": "stream",
          "name": "stdout",
          "text": [
            "---- Training set\n",
            "-- Set datatype: <class 'numpy.ndarray'>\n",
            "-- Sets shape: (60000, 784)\n",
            "-- first samples data type: <class 'numpy.ndarray'>\n",
            "-- first samples shape: (784,)\n",
            "\n",
            "\n",
            "---- Testing set\n",
            "-- Set datatype: <class 'numpy.ndarray'>\n",
            "-- Sets shape: (10000, 784)\n",
            "-- first samples data type: <class 'numpy.ndarray'>\n",
            "-- first samples shape: (784,)\n",
            "\n",
            "\n"
          ]
        }
      ]
    },
    {
      "cell_type": "markdown",
      "source": [
        "---"
      ],
      "metadata": {
        "id": "DmZTxkpcptNJ"
      }
    },
    {
      "cell_type": "markdown",
      "source": [
        "#### Step 5: Split the validation data"
      ],
      "metadata": {
        "id": "UT_hLFn4BMbp"
      }
    },
    {
      "cell_type": "code",
      "source": [
        "validation_samples = 10000\n",
        "\n",
        "# Splitting the training set and labels\n",
        "partial_x_train = x_train[validation_samples:]\n",
        "partial_y_train = one_hot_y_train[validation_samples:]\n",
        "\n",
        "set_describer('partial training data', partial_x_train)\n",
        "set_describer('partial labels', partial_y_train)\n",
        "\n",
        "# Splitting the valdiation set and labels\n",
        "x_val = x_train[:validation_samples]\n",
        "y_val = one_hot_y_train[:validation_samples]\n",
        "\n",
        "set_describer('validation data', x_val)\n",
        "set_describer('validation labels', y_val)\n",
        "\n"
      ],
      "metadata": {
        "id": "Q7I5QTABBUoa",
        "colab": {
          "base_uri": "https://localhost:8080/"
        },
        "outputId": "3deaf4fc-79d3-460e-9d66-c4360bc07c5f"
      },
      "execution_count": 5,
      "outputs": [
        {
          "output_type": "stream",
          "name": "stdout",
          "text": [
            "---- partial training data\n",
            "-- Set datatype: <class 'numpy.ndarray'>\n",
            "-- Sets shape: (50000, 784)\n",
            "-- first samples data type: <class 'numpy.ndarray'>\n",
            "-- first samples shape: (784,)\n",
            "\n",
            "\n",
            "---- partial labels\n",
            "-- Set datatype: <class 'numpy.ndarray'>\n",
            "-- Sets shape: (50000, 10)\n",
            "-- first samples data type: <class 'numpy.ndarray'>\n",
            "-- first samples shape: (10,)\n",
            "\n",
            "\n",
            "---- validation data\n",
            "-- Set datatype: <class 'numpy.ndarray'>\n",
            "-- Sets shape: (10000, 784)\n",
            "-- first samples data type: <class 'numpy.ndarray'>\n",
            "-- first samples shape: (784,)\n",
            "\n",
            "\n",
            "---- validation labels\n",
            "-- Set datatype: <class 'numpy.ndarray'>\n",
            "-- Sets shape: (10000, 10)\n",
            "-- first samples data type: <class 'numpy.ndarray'>\n",
            "-- first samples shape: (10,)\n",
            "\n",
            "\n"
          ]
        }
      ]
    },
    {
      "cell_type": "markdown",
      "source": [
        "---"
      ],
      "metadata": {
        "id": "YZPx833Mtr2e"
      }
    },
    {
      "cell_type": "markdown",
      "source": [
        "#### Step 6: Build the model\n",
        "<br/>\n",
        "Since the problem is not very complex, we will be using the Sequential API to build our model."
      ],
      "metadata": {
        "id": "6g3fE6HGBVIs"
      }
    },
    {
      "cell_type": "code",
      "source": [
        "from keras import layers\n",
        "\n",
        "model = keras.Sequential()\n",
        "model.add(layers.Dense(256, activation='relu'))\n",
        "model.add(layers.Dense(128, activation='relu'))\n",
        "model.add(layers.Dense(10, activation='softmax'))\n"
      ],
      "metadata": {
        "id": "1BaDI3obBc9u"
      },
      "execution_count": 6,
      "outputs": []
    },
    {
      "cell_type": "code",
      "source": [
        "model.build(input_shape = (None, 784, ))\n",
        "model.summary()\n"
      ],
      "metadata": {
        "colab": {
          "base_uri": "https://localhost:8080/",
          "height": 225
        },
        "id": "boOYZ3uUju_A",
        "outputId": "6d95f532-fad4-4437-ef98-8ba9db94cc54"
      },
      "execution_count": 7,
      "outputs": [
        {
          "output_type": "display_data",
          "data": {
            "text/plain": [
              "\u001b[1mModel: \"sequential\"\u001b[0m\n"
            ],
            "text/html": [
              "<pre style=\"white-space:pre;overflow-x:auto;line-height:normal;font-family:Menlo,'DejaVu Sans Mono',consolas,'Courier New',monospace\"><span style=\"font-weight: bold\">Model: \"sequential\"</span>\n",
              "</pre>\n"
            ]
          },
          "metadata": {}
        },
        {
          "output_type": "display_data",
          "data": {
            "text/plain": [
              "┏━━━━━━━━━━━━━━━━━━━━━━━━━━━━━━━━━┳━━━━━━━━━━━━━━━━━━━━━━━━┳━━━━━━━━━━━━━━━┓\n",
              "┃\u001b[1m \u001b[0m\u001b[1mLayer (type)                   \u001b[0m\u001b[1m \u001b[0m┃\u001b[1m \u001b[0m\u001b[1mOutput Shape          \u001b[0m\u001b[1m \u001b[0m┃\u001b[1m \u001b[0m\u001b[1m      Param #\u001b[0m\u001b[1m \u001b[0m┃\n",
              "┡━━━━━━━━━━━━━━━━━━━━━━━━━━━━━━━━━╇━━━━━━━━━━━━━━━━━━━━━━━━╇━━━━━━━━━━━━━━━┩\n",
              "│ dense (\u001b[38;5;33mDense\u001b[0m)                   │ (\u001b[38;5;45mNone\u001b[0m, \u001b[38;5;34m256\u001b[0m)            │       \u001b[38;5;34m200,960\u001b[0m │\n",
              "├─────────────────────────────────┼────────────────────────┼───────────────┤\n",
              "│ dense_1 (\u001b[38;5;33mDense\u001b[0m)                 │ (\u001b[38;5;45mNone\u001b[0m, \u001b[38;5;34m128\u001b[0m)            │        \u001b[38;5;34m32,896\u001b[0m │\n",
              "├─────────────────────────────────┼────────────────────────┼───────────────┤\n",
              "│ dense_2 (\u001b[38;5;33mDense\u001b[0m)                 │ (\u001b[38;5;45mNone\u001b[0m, \u001b[38;5;34m10\u001b[0m)             │         \u001b[38;5;34m1,290\u001b[0m │\n",
              "└─────────────────────────────────┴────────────────────────┴───────────────┘\n"
            ],
            "text/html": [
              "<pre style=\"white-space:pre;overflow-x:auto;line-height:normal;font-family:Menlo,'DejaVu Sans Mono',consolas,'Courier New',monospace\">┏━━━━━━━━━━━━━━━━━━━━━━━━━━━━━━━━━┳━━━━━━━━━━━━━━━━━━━━━━━━┳━━━━━━━━━━━━━━━┓\n",
              "┃<span style=\"font-weight: bold\"> Layer (type)                    </span>┃<span style=\"font-weight: bold\"> Output Shape           </span>┃<span style=\"font-weight: bold\">       Param # </span>┃\n",
              "┡━━━━━━━━━━━━━━━━━━━━━━━━━━━━━━━━━╇━━━━━━━━━━━━━━━━━━━━━━━━╇━━━━━━━━━━━━━━━┩\n",
              "│ dense (<span style=\"color: #0087ff; text-decoration-color: #0087ff\">Dense</span>)                   │ (<span style=\"color: #00d7ff; text-decoration-color: #00d7ff\">None</span>, <span style=\"color: #00af00; text-decoration-color: #00af00\">256</span>)            │       <span style=\"color: #00af00; text-decoration-color: #00af00\">200,960</span> │\n",
              "├─────────────────────────────────┼────────────────────────┼───────────────┤\n",
              "│ dense_1 (<span style=\"color: #0087ff; text-decoration-color: #0087ff\">Dense</span>)                 │ (<span style=\"color: #00d7ff; text-decoration-color: #00d7ff\">None</span>, <span style=\"color: #00af00; text-decoration-color: #00af00\">128</span>)            │        <span style=\"color: #00af00; text-decoration-color: #00af00\">32,896</span> │\n",
              "├─────────────────────────────────┼────────────────────────┼───────────────┤\n",
              "│ dense_2 (<span style=\"color: #0087ff; text-decoration-color: #0087ff\">Dense</span>)                 │ (<span style=\"color: #00d7ff; text-decoration-color: #00d7ff\">None</span>, <span style=\"color: #00af00; text-decoration-color: #00af00\">10</span>)             │         <span style=\"color: #00af00; text-decoration-color: #00af00\">1,290</span> │\n",
              "└─────────────────────────────────┴────────────────────────┴───────────────┘\n",
              "</pre>\n"
            ]
          },
          "metadata": {}
        },
        {
          "output_type": "display_data",
          "data": {
            "text/plain": [
              "\u001b[1m Total params: \u001b[0m\u001b[38;5;34m235,146\u001b[0m (918.54 KB)\n"
            ],
            "text/html": [
              "<pre style=\"white-space:pre;overflow-x:auto;line-height:normal;font-family:Menlo,'DejaVu Sans Mono',consolas,'Courier New',monospace\"><span style=\"font-weight: bold\"> Total params: </span><span style=\"color: #00af00; text-decoration-color: #00af00\">235,146</span> (918.54 KB)\n",
              "</pre>\n"
            ]
          },
          "metadata": {}
        },
        {
          "output_type": "display_data",
          "data": {
            "text/plain": [
              "\u001b[1m Trainable params: \u001b[0m\u001b[38;5;34m235,146\u001b[0m (918.54 KB)\n"
            ],
            "text/html": [
              "<pre style=\"white-space:pre;overflow-x:auto;line-height:normal;font-family:Menlo,'DejaVu Sans Mono',consolas,'Courier New',monospace\"><span style=\"font-weight: bold\"> Trainable params: </span><span style=\"color: #00af00; text-decoration-color: #00af00\">235,146</span> (918.54 KB)\n",
              "</pre>\n"
            ]
          },
          "metadata": {}
        },
        {
          "output_type": "display_data",
          "data": {
            "text/plain": [
              "\u001b[1m Non-trainable params: \u001b[0m\u001b[38;5;34m0\u001b[0m (0.00 B)\n"
            ],
            "text/html": [
              "<pre style=\"white-space:pre;overflow-x:auto;line-height:normal;font-family:Menlo,'DejaVu Sans Mono',consolas,'Courier New',monospace\"><span style=\"font-weight: bold\"> Non-trainable params: </span><span style=\"color: #00af00; text-decoration-color: #00af00\">0</span> (0.00 B)\n",
              "</pre>\n"
            ]
          },
          "metadata": {}
        }
      ]
    },
    {
      "cell_type": "markdown",
      "source": [
        "---"
      ],
      "metadata": {
        "id": "1wrl1dcSuY2J"
      }
    },
    {
      "cell_type": "markdown",
      "source": [
        "#### Step 7: Compile the model"
      ],
      "metadata": {
        "id": "4i-h7iANBdym"
      }
    },
    {
      "cell_type": "code",
      "source": [
        "model.compile(\n",
        "    optimizer = 'adam',\n",
        "    loss = 'categorical_crossentropy',\n",
        "    metrics = ['accuracy']\n",
        ")\n"
      ],
      "metadata": {
        "id": "XWuEMOxqBgrR"
      },
      "execution_count": 8,
      "outputs": []
    },
    {
      "cell_type": "markdown",
      "source": [
        "---"
      ],
      "metadata": {
        "id": "ddi3ECC308AO"
      }
    },
    {
      "cell_type": "markdown",
      "source": [
        "#### Step 8: Train the model"
      ],
      "metadata": {
        "id": "GSSMWwAuBhSo"
      }
    },
    {
      "cell_type": "code",
      "source": [
        "history = model.fit(\n",
        "    partial_x_train,\n",
        "    partial_y_train,\n",
        "    validation_data = (x_val, y_val),\n",
        "    epochs=10,\n",
        "    batch_size=64\n",
        ")\n"
      ],
      "metadata": {
        "id": "7KiX_7KUBlxj",
        "colab": {
          "base_uri": "https://localhost:8080/"
        },
        "outputId": "03a4d64c-f07e-4c17-cdc5-93de54575d79"
      },
      "execution_count": 9,
      "outputs": [
        {
          "output_type": "stream",
          "name": "stdout",
          "text": [
            "Epoch 1/10\n",
            "\u001b[1m782/782\u001b[0m \u001b[32m━━━━━━━━━━━━━━━━━━━━\u001b[0m\u001b[37m\u001b[0m \u001b[1m9s\u001b[0m 10ms/step - accuracy: 0.7747 - loss: 0.6505 - val_accuracy: 0.8518 - val_loss: 0.4055\n",
            "Epoch 2/10\n",
            "\u001b[1m782/782\u001b[0m \u001b[32m━━━━━━━━━━━━━━━━━━━━\u001b[0m\u001b[37m\u001b[0m \u001b[1m6s\u001b[0m 8ms/step - accuracy: 0.8630 - loss: 0.3773 - val_accuracy: 0.8647 - val_loss: 0.3856\n",
            "Epoch 3/10\n",
            "\u001b[1m782/782\u001b[0m \u001b[32m━━━━━━━━━━━━━━━━━━━━\u001b[0m\u001b[37m\u001b[0m \u001b[1m10s\u001b[0m 7ms/step - accuracy: 0.8766 - loss: 0.3339 - val_accuracy: 0.8514 - val_loss: 0.3789\n",
            "Epoch 4/10\n",
            "\u001b[1m782/782\u001b[0m \u001b[32m━━━━━━━━━━━━━━━━━━━━\u001b[0m\u001b[37m\u001b[0m \u001b[1m8s\u001b[0m 10ms/step - accuracy: 0.8864 - loss: 0.3032 - val_accuracy: 0.8699 - val_loss: 0.3665\n",
            "Epoch 5/10\n",
            "\u001b[1m782/782\u001b[0m \u001b[32m━━━━━━━━━━━━━━━━━━━━\u001b[0m\u001b[37m\u001b[0m \u001b[1m7s\u001b[0m 9ms/step - accuracy: 0.8959 - loss: 0.2892 - val_accuracy: 0.8865 - val_loss: 0.3177\n",
            "Epoch 6/10\n",
            "\u001b[1m782/782\u001b[0m \u001b[32m━━━━━━━━━━━━━━━━━━━━\u001b[0m\u001b[37m\u001b[0m \u001b[1m8s\u001b[0m 10ms/step - accuracy: 0.8980 - loss: 0.2681 - val_accuracy: 0.8869 - val_loss: 0.3105\n",
            "Epoch 7/10\n",
            "\u001b[1m782/782\u001b[0m \u001b[32m━━━━━━━━━━━━━━━━━━━━\u001b[0m\u001b[37m\u001b[0m \u001b[1m6s\u001b[0m 8ms/step - accuracy: 0.9043 - loss: 0.2582 - val_accuracy: 0.8865 - val_loss: 0.3153\n",
            "Epoch 8/10\n",
            "\u001b[1m782/782\u001b[0m \u001b[32m━━━━━━━━━━━━━━━━━━━━\u001b[0m\u001b[37m\u001b[0m \u001b[1m7s\u001b[0m 9ms/step - accuracy: 0.9084 - loss: 0.2418 - val_accuracy: 0.8867 - val_loss: 0.3126\n",
            "Epoch 9/10\n",
            "\u001b[1m782/782\u001b[0m \u001b[32m━━━━━━━━━━━━━━━━━━━━\u001b[0m\u001b[37m\u001b[0m \u001b[1m6s\u001b[0m 8ms/step - accuracy: 0.9089 - loss: 0.2381 - val_accuracy: 0.8880 - val_loss: 0.3149\n",
            "Epoch 10/10\n",
            "\u001b[1m782/782\u001b[0m \u001b[32m━━━━━━━━━━━━━━━━━━━━\u001b[0m\u001b[37m\u001b[0m \u001b[1m10s\u001b[0m 8ms/step - accuracy: 0.9180 - loss: 0.2159 - val_accuracy: 0.8814 - val_loss: 0.3404\n"
          ]
        }
      ]
    },
    {
      "cell_type": "markdown",
      "source": [
        "---"
      ],
      "metadata": {
        "id": "4DFVq3zp0bGt"
      }
    },
    {
      "cell_type": "markdown",
      "source": [
        "#### Step 9: Visualize the models accuracy and loss values"
      ],
      "metadata": {
        "id": "dmytWrbnBnd0"
      }
    },
    {
      "cell_type": "code",
      "source": [
        "history_dict = history.history\n",
        "\n",
        "# Getting the accuracy and valdiation accuracy form the history dictionary\n",
        "accuracy = history_dict['accuracy']\n",
        "val_accuracy = history_dict['val_accuracy']\n",
        "\n",
        "# Getting the loss and validation loss from the history dictionary\n",
        "loss = history_dict['loss']\n",
        "val_loss = history_dict['val_loss']\n",
        "\n",
        "# Calculate the number of epochs\n",
        "epochs = range(1, len(accuracy) + 1)\n"
      ],
      "metadata": {
        "id": "v9cUG2NgBq2K"
      },
      "execution_count": 10,
      "outputs": []
    },
    {
      "cell_type": "code",
      "source": [
        "import matplotlib.pyplot as plt\n",
        "\n",
        "plt.clf()\n",
        "\n",
        "plt.plot(epochs, accuracy, 'bo', label = 'Training accuracy')\n",
        "plt.plot(epochs, val_accuracy, 'b', label = 'Validation accuracy')\n",
        "\n",
        "plt.title = 'Accuracy and validation accuracy'\n",
        "plt.xlabel = 'epochs'\n",
        "plt.ylabel = 'Accuracy_values'\n",
        "plt.legend()\n",
        "plt.show()\n"
      ],
      "metadata": {
        "colab": {
          "base_uri": "https://localhost:8080/",
          "height": 430
        },
        "id": "MVad-_DVxQEe",
        "outputId": "eb592bbd-263c-4859-9868-920ba3a2b606"
      },
      "execution_count": 11,
      "outputs": [
        {
          "output_type": "display_data",
          "data": {
            "text/plain": [
              "<Figure size 640x480 with 1 Axes>"
            ],
            "image/png": "[encoded data removed]"
          },
          "metadata": {}
        }
      ]
    },
    {
      "cell_type": "code",
      "source": [
        "plt.clf()\n",
        "\n",
        "plt.plot(epochs, loss, 'bo', label = 'Training loss')\n",
        "plt.plot(epochs, val_loss, 'b', label = 'Validation loss')\n",
        "\n",
        "plt.title = 'Loss and validation loss'\n",
        "plt.xlbale = 'epochs'\n",
        "plt.ylabel = 'loss_values'\n",
        "plt.legend()\n",
        "plt.show()\n"
      ],
      "metadata": {
        "colab": {
          "base_uri": "https://localhost:8080/",
          "height": 430
        },
        "id": "WUrTAcJ3yI6O",
        "outputId": "6175d5c7-3da6-4a55-f26a-caa31c99537d"
      },
      "execution_count": 12,
      "outputs": [
        {
          "output_type": "display_data",
          "data": {
            "text/plain": [
              "<Figure size 640x480 with 1 Axes>"
            ],
            "image/png": "[encoded data removed]"
          },
          "metadata": {}
        }
      ]
    },
    {
      "cell_type": "markdown",
      "source": [
        "---"
      ],
      "metadata": {
        "id": "cxYusJN-0gyd"
      }
    },
    {
      "cell_type": "markdown",
      "source": [
        "#### Step 10: Make predictions with the trained model"
      ],
      "metadata": {
        "id": "09S2y7mwBrkN"
      }
    },
    {
      "cell_type": "code",
      "source": [
        "predictions = model.predict(x_test)\n",
        "\n",
        "target_prediction = 1\n",
        "\n",
        "print(predictions[target_prediction])\n",
        "print(y_test[target_prediction])\n"
      ],
      "metadata": {
        "id": "em6upGakBvYF",
        "colab": {
          "base_uri": "https://localhost:8080/"
        },
        "outputId": "dee46404-2b09-4987-839a-8b28f3135ef3"
      },
      "execution_count": 13,
      "outputs": [
        {
          "output_type": "stream",
          "name": "stdout",
          "text": [
            "\u001b[1m313/313\u001b[0m \u001b[32m━━━━━━━━━━━━━━━━━━━━\u001b[0m\u001b[37m\u001b[0m \u001b[1m1s\u001b[0m 3ms/step\n",
            "[2.9104535e-07 2.0987127e-17 9.9997312e-01 1.6298554e-14 1.7475675e-05\n",
            " 6.9578107e-15 9.0902167e-06 9.8865340e-19 9.8553056e-14 1.7444215e-15]\n",
            "2\n"
          ]
        }
      ]
    },
    {
      "cell_type": "code",
      "source": [
        "(test_loss, test_accuracy) = model.evaluate(x_test, one_hot_y_test)\n",
        "print(f'Final accuracy: {test_accuracy}')\n",
        "print(f'Final loss: {test_loss}')\n"
      ],
      "metadata": {
        "colab": {
          "base_uri": "https://localhost:8080/"
        },
        "id": "KWd23x5NkIYy",
        "outputId": "42d8c4b3-ffef-40d2-c0cf-52b4fdee9cc7"
      },
      "execution_count": 14,
      "outputs": [
        {
          "output_type": "stream",
          "name": "stdout",
          "text": [
            "\u001b[1m313/313\u001b[0m \u001b[32m━━━━━━━━━━━━━━━━━━━━\u001b[0m\u001b[37m\u001b[0m \u001b[1m1s\u001b[0m 3ms/step - accuracy: 0.8714 - loss: 0.3897\n",
            "Final accuracy: 0.8745999932289124\n",
            "Final loss: 0.3839159905910492\n"
          ]
        }
      ]
    },
    {
      "cell_type": "markdown",
      "source": [
        "---"
      ],
      "metadata": {
        "id": "wJ7MICOE0hy1"
      }
    }
  ]
}